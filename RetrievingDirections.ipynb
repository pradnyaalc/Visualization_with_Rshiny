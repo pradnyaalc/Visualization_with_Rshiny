{
 "cells": [
  {
   "cell_type": "code",
   "execution_count": null,
   "metadata": {},
   "outputs": [],
   "source": [
    "import pandas as pd\n",
    "air_data = pd.read_csv(\"air_data.csv\",sep='\\t')"
   ]
  },
  {
   "cell_type": "code",
   "execution_count": null,
   "metadata": {},
   "outputs": [],
   "source": [
    "air_data.head()"
   ]
  },
  {
   "cell_type": "code",
   "execution_count": null,
   "metadata": {},
   "outputs": [],
   "source": [
    "def get_airport(row):\n",
    "    if row['pickup_distance_to_jfk'] < 1000:\n",
    "        return \"JFK\"\n",
    "    elif row['pickup_distance_to_lga'] < 1000:\n",
    "        return \"LGA\"\n",
    "    elif row['pickup_distance_to_ewr'] < 1000:\n",
    "        return \"EWR\""
   ]
  },
  {
   "cell_type": "code",
   "execution_count": null,
   "metadata": {},
   "outputs": [],
   "source": [
    "air_data['airport'] = air_data.apply(lambda row: get_airport(row), axis=1)"
   ]
  },
  {
   "cell_type": "code",
   "execution_count": null,
   "metadata": {},
   "outputs": [],
   "source": [
    "air_data.to_csv(\"data_with_airports.csv\", sep='\\t')"
   ]
  },
  {
   "cell_type": "code",
   "execution_count": null,
   "metadata": {
    "scrolled": true
   },
   "outputs": [],
   "source": [
    "import csv\n",
    "import json\n",
    "import requests\n",
    "\n",
    "# from .config import GOOGLE_API_KEY, MAPQUEST_API_KEY\n",
    "MAPQUEST_API_KEY = 'SkYO2BUv0em7XMnplRvPbyu8AXwgjYTA'\n",
    "\n",
    "MAPQUEST_DIRECTIONS = 'http://open.mapquestapi.com/directions/v2/route'\n",
    "\n",
    "WRITE_KEYS = (\n",
    "    'vendor', 'pickupTime', 'duration',\n",
    "    'airport', 'direction',\n",
    ")\n",
    "\n",
    "\n",
    "def get_mapquest_polyline(value):\n",
    "    value = json.loads(value)\n",
    "    return value['route']['shape']['shapePoints']\n",
    "\n",
    "\n",
    "def get_pickup_dropoff(data):\n",
    "    return (\n",
    "        '{},{}'.format(data['Pickup_latitude'], data['Pickup_longitude']),\n",
    "        '{},{}'.format(data['Dropoff_latitude'], data['Dropoff_longitude'])\n",
    "    )\n",
    "\n",
    "\n",
    "def get_mapquest_direction(data):\n",
    "    pickup, dropoff = get_pickup_dropoff(data)\n",
    "    params = {\n",
    "        'from': pickup, 'to': dropoff, 'key': MAPQUEST_API_KEY,\n",
    "        'fullShape': 'true', 'shapeFormat': 'cmp', 'manMaps': 'false',\n",
    "        'narrativeType': 'none', 'doReverseGeocode': 'false',\n",
    "    }\n",
    "    resp = requests.get(url=MAPQUEST_DIRECTIONS, params=params)\n",
    "    if resp.status_code == 200:\n",
    "        return get_mapquest_polyline(resp.content)\n",
    "    return 'route-error'\n",
    "\n",
    "\n",
    "def record_error(row):\n",
    "    print(row)\n",
    "\n",
    "def extract_data():\n",
    "    for i in range(len(air_data)):\n",
    "        row = air_data.iloc[i]\n",
    "        data = {\n",
    "            'vendor': row['VendorID'],\n",
    "            'pickupTime': row['lpep_pickup_datetime'],\n",
    "            'duration': row['trip_time_in_secs'],\n",
    "            'airport': row['airport'],\n",
    "            'direction': 'error',\n",
    "        }\n",
    "        try:\n",
    "            data['direction'] = get_mapquest_direction(row)\n",
    "        except:\n",
    "            record_error(row)\n",
    "        yield data\n",
    "        \n",
    "def write_with_directions():\n",
    "    with open('with_directions.csv', 'w+') as f:\n",
    "        writer = csv.DictWriter(f, WRITE_KEYS)\n",
    "        rows = extract_data()\n",
    "        for row in rows:\n",
    "            writer.writerow(row)\n",
    "\n",
    "\n",
    "if __name__ == '__main__':\n",
    "    write_with_directions()"
   ]
  },
  {
   "cell_type": "code",
   "execution_count": null,
   "metadata": {},
   "outputs": [],
   "source": []
  }
 ],
 "metadata": {
  "kernelspec": {
   "display_name": "Python 3",
   "language": "python",
   "name": "python3"
  },
  "language_info": {
   "codemirror_mode": {
    "name": "ipython",
    "version": 3
   },
   "file_extension": ".py",
   "mimetype": "text/x-python",
   "name": "python",
   "nbconvert_exporter": "python",
   "pygments_lexer": "ipython3",
   "version": "3.6.8"
  }
 },
 "nbformat": 4,
 "nbformat_minor": 2
}
