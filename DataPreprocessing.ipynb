{
 "cells": [
  {
   "cell_type": "code",
   "execution_count": null,
   "metadata": {},
   "outputs": [],
   "source": [
    "import pandas as pd\n",
    "data = pd.read_csv(\"/home/pradnya/monash/5147/viz-2/final_data.csv\", sep='\\t')"
   ]
  },
  {
   "cell_type": "code",
   "execution_count": null,
   "metadata": {},
   "outputs": [],
   "source": [
    "data_hail = data[data['Trip_type '] == 1]"
   ]
  },
  {
   "cell_type": "code",
   "execution_count": null,
   "metadata": {},
   "outputs": [],
   "source": [
    "data_hail = data[(data['lpep_pickup_datetime']>'10/01/2016 00:00:00 AM') & (data['lpep_pickup_datetime']<='12/31/2016 23:59:59 PM')]\n",
    "len(data_hail)"
   ]
  },
  {
   "cell_type": "code",
   "execution_count": null,
   "metadata": {},
   "outputs": [],
   "source": [
    "data_hail['lpep_pickup_datetime'].min()\n",
    "data_hail.head()"
   ]
  },
  {
   "cell_type": "code",
   "execution_count": null,
   "metadata": {},
   "outputs": [],
   "source": [
    "data_hail = data_hail.drop(columns=['Unnamed: 0','Unnamed: 0.1', 'Store_and_fwd_flag', 'Extra', 'MTA_tax', 'Tolls_amount', 'Ehail_fee', 'improvement_surcharge', 'Total_amount'])"
   ]
  },
  {
   "cell_type": "code",
   "execution_count": null,
   "metadata": {},
   "outputs": [],
   "source": [
    "data_hail = data_hail[ (data_hail['Pickup_longitude'] >= -74.2748) & (data_hail['Pickup_longitude'] <= -73.70741) & \\\n",
    "              (data_hail['Pickup_latitude'] >= 40.45326) & (data_hail['Pickup_latitude'] <= 40.94788) & \\\n",
    "              (data_hail['Dropoff_longitude'] >= -74.2748) & (data_hail['Dropoff_longitude'] <= -73.70741) & \\\n",
    "              (data_hail['Dropoff_latitude'] >= 40.45326) & (data_hail['Dropoff_latitude'] <= 40.94788)]"
   ]
  },
  {
   "cell_type": "code",
   "execution_count": null,
   "metadata": {},
   "outputs": [],
   "source": [
    "data_hail['Pickup_longitude'] = data_hail['Pickup_longitude'].apply(lambda x: round(x, 5))\n",
    "data_hail['Pickup_latitude'] = data_hail['Pickup_latitude'].apply(lambda x: round(x, 5))\n",
    "data_hail['Dropoff_longitude'] = data_hail['Dropoff_longitude'].apply(lambda x: round(x, 5))\n",
    "data_hail['Dropoff_latitude'] = data_hail['Dropoff_latitude'].apply(lambda x: round(x, 5))"
   ]
  },
  {
   "cell_type": "code",
   "execution_count": null,
   "metadata": {},
   "outputs": [],
   "source": [
    "actual_data = data_hail[data_hail['Trip_distance']!=0.0]\n",
    "out_tdist = data_hail[data_hail['Trip_distance']==0.0]\n",
    "\n",
    "from math import radians, cos, sin, asin, sqrt\n",
    "\n",
    "def haversine(lon1, lat1, lon2, lat2):\n",
    "    \"\"\"\n",
    "    Calculate the great circle distance between two points \n",
    "    on the earth (specified in decimal degrees)\n",
    "    \"\"\"\n",
    "    # convert decimal degrees to radians \n",
    "    lon1, lat1, lon2, lat2 = map(radians, [lon1, lat1, lon2, lat2])\n",
    "\n",
    "    # haversine formula \n",
    "    dlon = lon2 - lon1 \n",
    "    dlat = lat2 - lat1 \n",
    "    a = sin(dlat/2)**2 + cos(lat1) * cos(lat2) * sin(dlon/2)**2\n",
    "    c = 2 * asin(sqrt(a)) \n",
    "    r = 3956 # Radius of earth in kilometers. Use 3956 for miles\n",
    "    return c * r\n",
    "\n",
    "out_tdist['Trip_distance']=out_tdist.apply(lambda row:haversine(row['Pickup_longitude'],row['Pickup_latitude'],row['Dropoff_longitude'],row['Dropoff_latitude']),axis=1)\n",
    "out_tdist[[\"Pickup_longitude\", \"Pickup_latitude\", \"Dropoff_longitude\", \"Dropoff_latitude\", \"Trip_distance\", \"Fare_amount\"]]"
   ]
  },
  {
   "cell_type": "code",
   "execution_count": null,
   "metadata": {},
   "outputs": [],
   "source": [
    "data_hail = actual_data.append(out_tdist)\n",
    "print(len(data_hail))"
   ]
  },
  {
   "cell_type": "code",
   "execution_count": null,
   "metadata": {},
   "outputs": [],
   "source": [
    "import numpy as np\n",
    "\n",
    "spl = []\n",
    "spl.append(data_hail.iloc[:1000000])\n",
    "spl.append(data_hail.iloc[1000000:2000000])\n",
    "spl.append(data_hail.iloc[2000000:3000000])\n",
    "spl.append(data_hail.iloc[3000000:])\n",
    "len(spl)"
   ]
  },
  {
   "cell_type": "code",
   "execution_count": null,
   "metadata": {},
   "outputs": [],
   "source": [
    "lf = spl[3]\n",
    "actual_data = lf [lf['Fare_amount'] >= 0]\n",
    "out_fare = lf [lf['Fare_amount'] < 0]\n",
    "len(out_fare)"
   ]
  },
  {
   "cell_type": "code",
   "execution_count": null,
   "metadata": {
    "scrolled": true
   },
   "outputs": [],
   "source": [
    "df = pd.DataFrame(columns=list(out_fare.columns.values))\n",
    "\n",
    "for i in range(len(out_fare)):\n",
    "    test_df = out_fare.iloc[i]\n",
    "    tf = data_hail[ (data_hail['Pickup_longitude'] == test_df['Pickup_longitude']) & (data_hail['Pickup_latitude'] == test_df['Pickup_latitude']) \\\n",
    "         & (data_hail['Dropoff_longitude']== test_df['Dropoff_longitude']) & (data_hail['Dropoff_latitude'] == test_df['Dropoff_latitude']) \\\n",
    "         & (data_hail['Trip_distance']== test_df['Trip_distance']) ]\n",
    "    if len(tf) > 1:\n",
    "        test_df['Fare_amount']= tf[ tf['Fare_amount'] > 0]['Fare_amount'].mean()\n",
    "        df = df.append(test_df)"
   ]
  },
  {
   "cell_type": "code",
   "execution_count": null,
   "metadata": {},
   "outputs": [],
   "source": [
    "data1 = actual_data.append(df)\n",
    "len(data1)"
   ]
  },
  {
   "cell_type": "code",
   "execution_count": null,
   "metadata": {},
   "outputs": [],
   "source": [
    "data_hail = data_hail.append(data1)\n",
    "len(data_hail)"
   ]
  },
  {
   "cell_type": "code",
   "execution_count": null,
   "metadata": {},
   "outputs": [],
   "source": [
    "data_hail['lpep_pickup_datetime'] = pd.to_datetime(data_hail['lpep_pickup_datetime'],errors=\"coerce\")\n",
    "data_hail['Lpep_dropoff_datetime'] = pd.to_datetime(data_hail['Lpep_dropoff_datetime'],errors=\"coerce\")"
   ]
  },
  {
   "cell_type": "code",
   "execution_count": null,
   "metadata": {},
   "outputs": [],
   "source": [
    "import calendar\n",
    "\n",
    "data_hail['pickup_date']= data_hail['lpep_pickup_datetime'].dt.date\n",
    "data_hail['pickup_day']=data_hail['lpep_pickup_datetime'].apply(lambda x:x.day)\n",
    "data_hail['pickup_hour']=data_hail['lpep_pickup_datetime'].apply(lambda x:x.hour)\n",
    "data_hail['pickup_day_of_week']=data_hail['lpep_pickup_datetime'].apply(lambda x:calendar.day_name[x.weekday()])\n",
    "data_hail['pickup_month']=data_hail['lpep_pickup_datetime'].apply(lambda x:x.month)\n",
    "data_hail['pickup_year']=data_hail['lpep_pickup_datetime'].apply(lambda x:x.year)"
   ]
  },
  {
   "cell_type": "code",
   "execution_count": null,
   "metadata": {},
   "outputs": [],
   "source": [
    "data_hail.head()"
   ]
  },
  {
   "cell_type": "code",
   "execution_count": null,
   "metadata": {},
   "outputs": [],
   "source": [
    "data_hail.to_csv(\"hailForStats.csv\", sep='\\t')"
   ]
  }
 ],
 "metadata": {
  "kernelspec": {
   "display_name": "Python 3",
   "language": "python",
   "name": "python3"
  },
  "language_info": {
   "codemirror_mode": {
    "name": "ipython",
    "version": 3
   },
   "file_extension": ".py",
   "mimetype": "text/x-python",
   "name": "python",
   "nbconvert_exporter": "python",
   "pygments_lexer": "ipython3",
   "version": "3.6.8"
  }
 },
 "nbformat": 4,
 "nbformat_minor": 2
}
