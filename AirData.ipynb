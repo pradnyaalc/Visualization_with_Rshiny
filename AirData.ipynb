{
 "cells": [
  {
   "cell_type": "code",
   "execution_count": 1,
   "metadata": {},
   "outputs": [],
   "source": [
    "jfk = (40.64417, -73.78222)\n",
    "lga = (40.77472, -73.87194)\n",
    "ewr = (40.68972, -74.175)"
   ]
  },
  {
   "cell_type": "code",
   "execution_count": 2,
   "metadata": {},
   "outputs": [],
   "source": [
    "import pandas as pd\n",
    "data_hail = pd.read_csv(\"hailForStats.csv\",sep='\\t')"
   ]
  },
  {
   "cell_type": "code",
   "execution_count": 6,
   "metadata": {},
   "outputs": [
    {
     "data": {
      "text/plain": [
       "'2016-12-31 23:59:59'"
      ]
     },
     "execution_count": 6,
     "metadata": {},
     "output_type": "execute_result"
    }
   ],
   "source": [
    "data_hail['lpep_pickup_datetime'].max()"
   ]
  },
  {
   "cell_type": "code",
   "execution_count": 7,
   "metadata": {},
   "outputs": [],
   "source": [
    "from math import radians, cos, sin, asin, sqrt\n",
    "\n",
    "def haversine(lon1, lat1, lon2, lat2):\n",
    "    \"\"\"\n",
    "    Calculate the great circle distance between two points \n",
    "    on the earth (specified in decimal degrees)\n",
    "    \"\"\"\n",
    "    # convert decimal degrees to radians \n",
    "    lon1, lat1, lon2, lat2 = map(radians, [lon1, lat1, lon2, lat2])\n",
    "\n",
    "    # haversine formula \n",
    "    dlon = lon2 - lon1 \n",
    "    dlat = lat2 - lat1 \n",
    "    a = sin(dlat/2)**2 + cos(lat1) * cos(lat2) * sin(dlon/2)**2\n",
    "    c = 2 * asin(sqrt(a)) \n",
    "    r = 6367 * 1000 # Radius of earth in meters. Use 3956 for miles\n",
    "    return c * r"
   ]
  },
  {
   "cell_type": "code",
   "execution_count": 8,
   "metadata": {},
   "outputs": [],
   "source": [
    "data_hail['pickup_distance_to_jfk']=data_hail.apply(lambda row:haversine(jfk[1], jfk[0], row['Pickup_longitude'], row['Pickup_latitude']),axis=1)"
   ]
  },
  {
   "cell_type": "code",
   "execution_count": 9,
   "metadata": {},
   "outputs": [],
   "source": [
    "data_hail['pickup_distance_to_lga']=data_hail.apply(lambda row:haversine(lga[1], lga[0], row['Pickup_longitude'], row['Pickup_latitude']),axis=1)"
   ]
  },
  {
   "cell_type": "code",
   "execution_count": 10,
   "metadata": {},
   "outputs": [],
   "source": [
    "data_hail['pickup_distance_to_ewr']=data_hail.apply(lambda row:haversine(ewr[1], ewr[0], row['Pickup_longitude'], row['Pickup_latitude']),axis=1)"
   ]
  },
  {
   "cell_type": "code",
   "execution_count": null,
   "metadata": {},
   "outputs": [],
   "source": [
    "air_data = data_hail[(data_hail['pickup_distance_to_jfk']<1000)|(data_hail['pickup_distance_to_lga']<1000)|(data_hail['pickup_distance_to_ewr']<1000)]"
   ]
  },
  {
   "cell_type": "code",
   "execution_count": null,
   "metadata": {},
   "outputs": [],
   "source": [
    "len(air_data)"
   ]
  },
  {
   "cell_type": "code",
   "execution_count": null,
   "metadata": {},
   "outputs": [],
   "source": [
    "# air_data['Lpep_dropoff_datetime'].iloc[0]-air_data['lpep_pickup_datetime'].iloc[0]\n",
    "air_data['Lpep_dropoff_datetime'] = pd.to_datetime(air_data['Lpep_dropoff_datetime'],errors=\"coerce\")\n",
    "air_data['lpep_pickup_datetime'] = pd.to_datetime(air_data['lpep_pickup_datetime'],errors=\"coerce\")"
   ]
  },
  {
   "cell_type": "code",
   "execution_count": null,
   "metadata": {
    "scrolled": true
   },
   "outputs": [],
   "source": [
    "def get_time_in_sec(time1, time2):\n",
    "    timedelta = time1-time2\n",
    "    return timedelta.days * 24 * 3600 + timedelta.seconds\n",
    "\n",
    "air_data['trip_time_in_secs'] = air_data.apply(lambda row: get_time_in_sec(row['Lpep_dropoff_datetime'], row['lpep_pickup_datetime']), axis=1)"
   ]
  },
  {
   "cell_type": "code",
   "execution_count": null,
   "metadata": {},
   "outputs": [],
   "source": [
    "air_data.to_csv(\"air_data.csv\",sep='\\t')"
   ]
  }
 ],
 "metadata": {
  "kernelspec": {
   "display_name": "Python 3",
   "language": "python",
   "name": "python3"
  },
  "language_info": {
   "codemirror_mode": {
    "name": "ipython",
    "version": 3
   },
   "file_extension": ".py",
   "mimetype": "text/x-python",
   "name": "python",
   "nbconvert_exporter": "python",
   "pygments_lexer": "ipython3",
   "version": "3.6.8"
  }
 },
 "nbformat": 4,
 "nbformat_minor": 2
}
